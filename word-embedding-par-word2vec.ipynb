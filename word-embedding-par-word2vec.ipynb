{
 "cells": [
  {
   "cell_type": "code",
   "execution_count": 1,
   "id": "a814e353",
   "metadata": {
    "_cell_guid": "b1076dfc-b9ad-4769-8c92-a6c4dae69d19",
    "_uuid": "8f2839f25d086af736a60e9eeb907d3b93b6e0e5",
    "execution": {
     "iopub.execute_input": "2024-04-03T03:02:14.610972Z",
     "iopub.status.busy": "2024-04-03T03:02:14.610444Z",
     "iopub.status.idle": "2024-04-03T03:02:15.662338Z",
     "shell.execute_reply": "2024-04-03T03:02:15.660968Z"
    },
    "papermill": {
     "duration": 1.062198,
     "end_time": "2024-04-03T03:02:15.665492",
     "exception": false,
     "start_time": "2024-04-03T03:02:14.603294",
     "status": "completed"
    },
    "tags": []
   },
   "outputs": [
    {
     "name": "stdout",
     "output_type": "stream",
     "text": [
      "/kaggle/input/marrakech/text\n"
     ]
    }
   ],
   "source": [
    "# This Python 3 environment comes with many helpful analytics libraries installed\n",
    "# It is defined by the kaggle/python Docker image: https://github.com/kaggle/docker-python\n",
    "# For example, here's several helpful packages to load\n",
    "\n",
    "import numpy as np # linear algebra\n",
    "import pandas as pd # data processing, CSV file I/O (e.g. pd.read_csv)\n",
    "\n",
    "# Input data files are available in the read-only \"../input/\" directory\n",
    "# For example, running this (by clicking run or pressing Shift+Enter) will list all files under the input directory\n",
    "\n",
    "import os\n",
    "for dirname, _, filenames in os.walk('/kaggle/input'):\n",
    "    for filename in filenames:\n",
    "        print(os.path.join(dirname, filename))\n",
    "\n",
    "# You can write up to 20GB to the current directory (/kaggle/working/) that gets preserved as output when you create a version using \"Save & Run All\" \n",
    "# You can also write temporary files to /kaggle/temp/, but they won't be saved outside of the current session"
   ]
  },
  {
   "cell_type": "code",
   "execution_count": 2,
   "id": "2d90ed36",
   "metadata": {
    "execution": {
     "iopub.execute_input": "2024-04-03T03:02:15.678589Z",
     "iopub.status.busy": "2024-04-03T03:02:15.677691Z",
     "iopub.status.idle": "2024-04-03T03:02:27.060195Z",
     "shell.execute_reply": "2024-04-03T03:02:27.058869Z"
    },
    "papermill": {
     "duration": 11.392016,
     "end_time": "2024-04-03T03:02:27.062956",
     "exception": false,
     "start_time": "2024-04-03T03:02:15.670940",
     "status": "completed"
    },
    "tags": []
   },
   "outputs": [
    {
     "name": "stdout",
     "output_type": "stream",
     "text": [
      "dict_keys(['the', 'and', 'of', 'marrakech', 'to', 'morocco', 'is', 'in', 'not', 'city', 'its', 'moroccan', 'with', 'medina', 'it', 'tradition', 'at', 'red', 'value', 'that', 'journey', 'through', 'heart', 'history', 'men', 'tapestry', 'saadian', 'offering', 'as', 'by', 'cuisine', 'modern', 'like', 'also', 'has', 'palaces', 'lies', 'just', 'architecture', 'world', 'ancient', 'time', 'does', 'unparalleled', 'mint', 'north', 'town', 'cultural', 'modernity', 'an', 'routes', 'referred', 'often', 'site', 'century', 'trade', 'old', 'cultures', 'pot', 'melting', 'heritage', 'territory', 'after', 'religions', 'distinctive', 'due', 'crucial', 'sought', 'mountains', 'atlas', 'remained', 'capped', 'unesco', 'snow', 'political', 'th', 'backdrop', 'economic', 'against', 'stands', 'buildings', 'center', 'hued', 'established', 'mediterranean', 'made', 'flourished', 'european', 'berber', 'arab', 'blend', 'unique', 'boasts', 'kingdom', 'african', 'this', 'here', 'once', 'historically', 'civilizations', 'testament', 'richness', 'mystery', 'drenched', 'country', 'africa', 'europe', 'crossroads', 'located', 'influences', 'rich', 'one', 'four', 'location', 'strategic', 'south', 'desert', 'sahara', 'vast', 'southeast', 'east', 'algeria', 'sea', 'maze', 'west', 'ocean', 'atlantic', 'bordered', 'significance', 'geographical', 'epicenter', 'vibrant', 'cities', 'imperial', 'labyrinthine', 'centuries', 'narrow', 'culinary', 'paired', 'cumin', 'saffron', 'spices', 'flavors', 'plethora', 'combine', 'dishes', 'many', 'few', 'are', 'pastilla', 'couscous', 'tagines', 'local', 'indulging', 'without', 'complete', 'be', 'would', 'no', 'contrast', 'stark', 'boutiques', 'chic', 'tea', 'experience', 'stylish', 'truly', 'have', 'tales', 'but', 'case', 'know', 'travel', 'who', 'he', 'goes', 'proverb', 'reflection', 'adventure', 'both', 'seeking', 'those', 'for', 'destination', 'enthralling', 'makes', 'gastronomy', 'culture', 'convergence', 'travelers', 'offers', 'conclusion', 'cafes', 'galleries', 'alleys', 'intricate', 'palace', 'bahia', 'grand', 'home', 'gardens', 'delicacies', 'tantalizing', 'stalls', 'food', 'charmers', 'snake', 'musicians', 'storytellers', 'evening', 'every', 'alive', 'comes', 'spanned', 'fna', 'el', 'djemaa', 'landmarks', 'historical', 'souks', 'bustling', 'showcasing', 'islamic', 'art', 'tombs', 'contemporary', 'brimming', 'new', 'gueliz', 'averse', 'permeate', 'while', 'accents', 'blue', 'cobalt', 'trees', 'palm', 'cacti', 'oasis', 'tranquil', 'laurent', 'saint', 'yves', 'designer', 'fashion', 'restored', 'garden', 'majorelle', 'dynasty', 'remnants', 'square'])\n"
     ]
    }
   ],
   "source": [
    "from gensim.models import Word2Vec\n",
    "from gensim.utils import simple_preprocess\n",
    "\n",
    "# Chargement du texte depuis le fichier\n",
    "text_path = \"/kaggle/input/marrakech/text\"\n",
    "with open(text_path, \"r\") as f:\n",
    "    text = f.read()\n",
    "\n",
    "\n",
    "# Entraînement du modèle Word2Vec\n",
    "tokenized_text = [simple_preprocess(sentence) for sentence in text.split('.')]\n",
    "model = Word2Vec(tokenized_text, window=5, min_count=1)\n",
    "print(model.wv.key_to_index.keys())\n",
    "\n",
    "\n"
   ]
  },
  {
   "cell_type": "markdown",
   "id": "d68f07a1",
   "metadata": {
    "papermill": {
     "duration": 0.004769,
     "end_time": "2024-04-03T03:02:27.072980",
     "exception": false,
     "start_time": "2024-04-03T03:02:27.068211",
     "status": "completed"
    },
    "tags": []
   },
   "source": [
    "# Simple Preprocessing & Tokenization"
   ]
  },
  {
   "cell_type": "code",
   "execution_count": 3,
   "id": "fde60c3e",
   "metadata": {
    "execution": {
     "iopub.execute_input": "2024-04-03T03:02:27.086234Z",
     "iopub.status.busy": "2024-04-03T03:02:27.084656Z",
     "iopub.status.idle": "2024-04-03T03:02:27.092852Z",
     "shell.execute_reply": "2024-04-03T03:02:27.091708Z"
    },
    "papermill": {
     "duration": 0.017326,
     "end_time": "2024-04-03T03:02:27.095290",
     "exception": false,
     "start_time": "2024-04-03T03:02:27.077964",
     "status": "completed"
    },
    "tags": []
   },
   "outputs": [],
   "source": [
    "tokenized_text = [simple_preprocess(sentence) for sentence in text.split('.')]"
   ]
  },
  {
   "cell_type": "markdown",
   "id": "c8046ffd",
   "metadata": {
    "papermill": {
     "duration": 0.004579,
     "end_time": "2024-04-03T03:02:27.104912",
     "exception": false,
     "start_time": "2024-04-03T03:02:27.100333",
     "status": "completed"
    },
    "tags": []
   },
   "source": [
    "# le vocabulaire du modèle "
   ]
  },
  {
   "cell_type": "code",
   "execution_count": 4,
   "id": "c5a03696",
   "metadata": {
    "execution": {
     "iopub.execute_input": "2024-04-03T03:02:27.116095Z",
     "iopub.status.busy": "2024-04-03T03:02:27.115647Z",
     "iopub.status.idle": "2024-04-03T03:02:27.145350Z",
     "shell.execute_reply": "2024-04-03T03:02:27.143890Z"
    },
    "papermill": {
     "duration": 0.038679,
     "end_time": "2024-04-03T03:02:27.148284",
     "exception": false,
     "start_time": "2024-04-03T03:02:27.109605",
     "status": "completed"
    },
    "tags": []
   },
   "outputs": [
    {
     "name": "stdout",
     "output_type": "stream",
     "text": [
      "dict_keys(['the', 'and', 'of', 'marrakech', 'to', 'morocco', 'is', 'in', 'not', 'city', 'its', 'moroccan', 'with', 'medina', 'it', 'tradition', 'at', 'red', 'value', 'that', 'journey', 'through', 'heart', 'history', 'men', 'tapestry', 'saadian', 'offering', 'as', 'by', 'cuisine', 'modern', 'like', 'also', 'has', 'palaces', 'lies', 'just', 'architecture', 'world', 'ancient', 'time', 'does', 'unparalleled', 'mint', 'north', 'town', 'cultural', 'modernity', 'an', 'routes', 'referred', 'often', 'site', 'century', 'trade', 'old', 'cultures', 'pot', 'melting', 'heritage', 'territory', 'after', 'religions', 'distinctive', 'due', 'crucial', 'sought', 'mountains', 'atlas', 'remained', 'capped', 'unesco', 'snow', 'political', 'th', 'backdrop', 'economic', 'against', 'stands', 'buildings', 'center', 'hued', 'established', 'mediterranean', 'made', 'flourished', 'european', 'berber', 'arab', 'blend', 'unique', 'boasts', 'kingdom', 'african', 'this', 'here', 'once', 'historically', 'civilizations', 'testament', 'richness', 'mystery', 'drenched', 'country', 'africa', 'europe', 'crossroads', 'located', 'influences', 'rich', 'one', 'four', 'location', 'strategic', 'south', 'desert', 'sahara', 'vast', 'southeast', 'east', 'algeria', 'sea', 'maze', 'west', 'ocean', 'atlantic', 'bordered', 'significance', 'geographical', 'epicenter', 'vibrant', 'cities', 'imperial', 'labyrinthine', 'centuries', 'narrow', 'culinary', 'paired', 'cumin', 'saffron', 'spices', 'flavors', 'plethora', 'combine', 'dishes', 'many', 'few', 'are', 'pastilla', 'couscous', 'tagines', 'local', 'indulging', 'without', 'complete', 'be', 'would', 'no', 'contrast', 'stark', 'boutiques', 'chic', 'tea', 'experience', 'stylish', 'truly', 'have', 'tales', 'but', 'case', 'know', 'travel', 'who', 'he', 'goes', 'proverb', 'reflection', 'adventure', 'both', 'seeking', 'those', 'for', 'destination', 'enthralling', 'makes', 'gastronomy', 'culture', 'convergence', 'travelers', 'offers', 'conclusion', 'cafes', 'galleries', 'alleys', 'intricate', 'palace', 'bahia', 'grand', 'home', 'gardens', 'delicacies', 'tantalizing', 'stalls', 'food', 'charmers', 'snake', 'musicians', 'storytellers', 'evening', 'every', 'alive', 'comes', 'spanned', 'fna', 'el', 'djemaa', 'landmarks', 'historical', 'souks', 'bustling', 'showcasing', 'islamic', 'art', 'tombs', 'contemporary', 'brimming', 'new', 'gueliz', 'averse', 'permeate', 'while', 'accents', 'blue', 'cobalt', 'trees', 'palm', 'cacti', 'oasis', 'tranquil', 'laurent', 'saint', 'yves', 'designer', 'fashion', 'restored', 'garden', 'majorelle', 'dynasty', 'remnants', 'square'])\n"
     ]
    }
   ],
   "source": [
    "model = Word2Vec(tokenized_text, window=5, min_count=1)\n",
    "print(model.wv.key_to_index.keys())"
   ]
  },
  {
   "cell_type": "markdown",
   "id": "ab58f28d",
   "metadata": {
    "papermill": {
     "duration": 0.004886,
     "end_time": "2024-04-03T03:02:27.158276",
     "exception": false,
     "start_time": "2024-04-03T03:02:27.153390",
     "status": "completed"
    },
    "tags": []
   },
   "source": [
    "# Extraction de la représentation vectorielle du mot \"Marrakech\""
   ]
  },
  {
   "cell_type": "code",
   "execution_count": 5,
   "id": "8b623443",
   "metadata": {
    "execution": {
     "iopub.execute_input": "2024-04-03T03:02:27.169968Z",
     "iopub.status.busy": "2024-04-03T03:02:27.169566Z",
     "iopub.status.idle": "2024-04-03T03:02:27.176230Z",
     "shell.execute_reply": "2024-04-03T03:02:27.174787Z"
    },
    "papermill": {
     "duration": 0.015756,
     "end_time": "2024-04-03T03:02:27.178988",
     "exception": false,
     "start_time": "2024-04-03T03:02:27.163232",
     "status": "completed"
    },
    "tags": []
   },
   "outputs": [
    {
     "name": "stdout",
     "output_type": "stream",
     "text": [
      "Représentation vectorielle de 'Marrakech':\n",
      " [-0.00821353  0.00952752 -0.00021442 -0.00190384  0.00471327 -0.00436679\n",
      "  0.00296279  0.00733148  0.00582167 -0.0077056 ]\n"
     ]
    }
   ],
   "source": [
    "marrakech_embedding  = model.wv.get_vector(\"marrakech\")\n",
    "print(\"Représentation vectorielle de 'Marrakech':\\n\", marrakech_embedding [:10])"
   ]
  },
  {
   "cell_type": "markdown",
   "id": "5baf6290",
   "metadata": {
    "papermill": {
     "duration": 0.004696,
     "end_time": "2024-04-03T03:02:27.188826",
     "exception": false,
     "start_time": "2024-04-03T03:02:27.184130",
     "status": "completed"
    },
    "tags": []
   },
   "source": [
    "# la similarité entre deux mots"
   ]
  },
  {
   "cell_type": "code",
   "execution_count": 6,
   "id": "2100ae1f",
   "metadata": {
    "execution": {
     "iopub.execute_input": "2024-04-03T03:02:27.200809Z",
     "iopub.status.busy": "2024-04-03T03:02:27.200370Z",
     "iopub.status.idle": "2024-04-03T03:02:27.208349Z",
     "shell.execute_reply": "2024-04-03T03:02:27.207469Z"
    },
    "papermill": {
     "duration": 0.017121,
     "end_time": "2024-04-03T03:02:27.210933",
     "exception": false,
     "start_time": "2024-04-03T03:02:27.193812",
     "status": "completed"
    },
    "tags": []
   },
   "outputs": [
    {
     "name": "stdout",
     "output_type": "stream",
     "text": [
      "Similarité entre 'cuisine' et 'food': -0.1233\n"
     ]
    }
   ],
   "source": [
    "word1 = \"cuisine\"\n",
    "word2 = \"food\"\n",
    "\n",
    "similarity_score = model.wv.similarity(word1, word2)\n",
    "\n",
    "print(f\"Similarité entre '{word1}' et '{word2}': {similarity_score:.4f}\")"
   ]
  },
  {
   "cell_type": "markdown",
   "id": "8fd20ad5",
   "metadata": {
    "papermill": {
     "duration": 0.004807,
     "end_time": "2024-04-03T03:02:27.220952",
     "exception": false,
     "start_time": "2024-04-03T03:02:27.216145",
     "status": "completed"
    },
    "tags": []
   },
   "source": [
    "# les mots contextuels les plus similaires pour un mot central donné"
   ]
  },
  {
   "cell_type": "code",
   "execution_count": 7,
   "id": "ac1e51a2",
   "metadata": {
    "execution": {
     "iopub.execute_input": "2024-04-03T03:02:27.233556Z",
     "iopub.status.busy": "2024-04-03T03:02:27.232625Z",
     "iopub.status.idle": "2024-04-03T03:02:27.249454Z",
     "shell.execute_reply": "2024-04-03T03:02:27.247716Z"
    },
    "papermill": {
     "duration": 0.028858,
     "end_time": "2024-04-03T03:02:27.254871",
     "exception": false,
     "start_time": "2024-04-03T03:02:27.226013",
     "status": "completed"
    },
    "tags": []
   },
   "outputs": [
    {
     "name": "stdout",
     "output_type": "stream",
     "text": [
      "Mots contextuels les plus similaires pour 'marrakech':\n",
      "evening: 0.298\n",
      "but: 0.273\n",
      "labyrinthine: 0.256\n",
      "averse: 0.241\n",
      "permeate: 0.226\n",
      "without: 0.223\n",
      "alleys: 0.218\n",
      "capped: 0.207\n",
      "designer: 0.187\n",
      "sahara: 0.184\n"
     ]
    }
   ],
   "source": [
    "central_word = \"marrakech\"\n",
    "topn = 10  \n",
    "\n",
    "similar_words = model.wv.most_similar(central_word, topn=topn)\n",
    "print(f\"Mots contextuels les plus similaires pour '{central_word}':\")\n",
    "for word, similarity in similar_words:\n",
    "    print(f\"{word}: {similarity:.3f}\")\n"
   ]
  }
 ],
 "metadata": {
  "kaggle": {
   "accelerator": "none",
   "dataSources": [
    {
     "datasetId": 4578191,
     "sourceId": 7815187,
     "sourceType": "datasetVersion"
    }
   ],
   "dockerImageVersionId": 30664,
   "isGpuEnabled": false,
   "isInternetEnabled": false,
   "language": "python",
   "sourceType": "notebook"
  },
  "kernelspec": {
   "display_name": "Python 3",
   "language": "python",
   "name": "python3"
  },
  "language_info": {
   "codemirror_mode": {
    "name": "ipython",
    "version": 3
   },
   "file_extension": ".py",
   "mimetype": "text/x-python",
   "name": "python",
   "nbconvert_exporter": "python",
   "pygments_lexer": "ipython3",
   "version": "3.10.13"
  },
  "papermill": {
   "default_parameters": {},
   "duration": 18.306744,
   "end_time": "2024-04-03T03:02:29.594115",
   "environment_variables": {},
   "exception": null,
   "input_path": "__notebook__.ipynb",
   "output_path": "__notebook__.ipynb",
   "parameters": {},
   "start_time": "2024-04-03T03:02:11.287371",
   "version": "2.5.0"
  }
 },
 "nbformat": 4,
 "nbformat_minor": 5
}
