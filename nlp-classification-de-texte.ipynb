{
 "cells": [
  {
   "cell_type": "code",
   "execution_count": 1,
   "id": "27f90349",
   "metadata": {
    "execution": {
     "iopub.execute_input": "2024-04-03T02:57:32.683426Z",
     "iopub.status.busy": "2024-04-03T02:57:32.682787Z",
     "iopub.status.idle": "2024-04-03T02:57:52.046096Z",
     "shell.execute_reply": "2024-04-03T02:57:52.045063Z"
    },
    "papermill": {
     "duration": 19.371892,
     "end_time": "2024-04-03T02:57:52.048739",
     "exception": false,
     "start_time": "2024-04-03T02:57:32.676847",
     "status": "completed"
    },
    "tags": []
   },
   "outputs": [],
   "source": [
    "import numpy as np \n",
    "import pandas as pd\n",
    "import spacy\n",
    "from spacy.lang.en.stop_words import STOP_WORDS\n",
    "from nltk.tokenize import word_tokenize\n",
    "import string\n",
    "from gensim.models import Word2Vec\n",
    "from sklearn.model_selection import train_test_split\n",
    "from sklearn.linear_model import LogisticRegression\n",
    "from sklearn.metrics import accuracy_score, precision_score, recall_score, f1_score, classification_report"
   ]
  },
  {
   "cell_type": "markdown",
   "id": "a2741252",
   "metadata": {
    "papermill": {
     "duration": 0.00345,
     "end_time": "2024-04-03T02:57:52.056442",
     "exception": false,
     "start_time": "2024-04-03T02:57:52.052992",
     "status": "completed"
    },
    "tags": []
   },
   "source": [
    "# Importation data"
   ]
  },
  {
   "cell_type": "code",
   "execution_count": 2,
   "id": "d80648b2",
   "metadata": {
    "execution": {
     "iopub.execute_input": "2024-04-03T02:57:52.065623Z",
     "iopub.status.busy": "2024-04-03T02:57:52.064975Z",
     "iopub.status.idle": "2024-04-03T02:57:52.339048Z",
     "shell.execute_reply": "2024-04-03T02:57:52.338171Z"
    },
    "papermill": {
     "duration": 0.281091,
     "end_time": "2024-04-03T02:57:52.341137",
     "exception": false,
     "start_time": "2024-04-03T02:57:52.060046",
     "status": "completed"
    },
    "tags": []
   },
   "outputs": [
    {
     "data": {
      "text/html": [
       "<div>\n",
       "<style scoped>\n",
       "    .dataframe tbody tr th:only-of-type {\n",
       "        vertical-align: middle;\n",
       "    }\n",
       "\n",
       "    .dataframe tbody tr th {\n",
       "        vertical-align: top;\n",
       "    }\n",
       "\n",
       "    .dataframe thead th {\n",
       "        text-align: right;\n",
       "    }\n",
       "</style>\n",
       "<table border=\"1\" class=\"dataframe\">\n",
       "  <thead>\n",
       "    <tr style=\"text-align: right;\">\n",
       "      <th></th>\n",
       "      <th>fold_id</th>\n",
       "      <th>cv_tag</th>\n",
       "      <th>html_id</th>\n",
       "      <th>sent_id</th>\n",
       "      <th>text</th>\n",
       "      <th>tag</th>\n",
       "    </tr>\n",
       "  </thead>\n",
       "  <tbody>\n",
       "    <tr>\n",
       "      <th>0</th>\n",
       "      <td>0</td>\n",
       "      <td>cv000</td>\n",
       "      <td>29590</td>\n",
       "      <td>0</td>\n",
       "      <td>films adapted from comic books have had plenty...</td>\n",
       "      <td>pos</td>\n",
       "    </tr>\n",
       "    <tr>\n",
       "      <th>1</th>\n",
       "      <td>0</td>\n",
       "      <td>cv000</td>\n",
       "      <td>29590</td>\n",
       "      <td>1</td>\n",
       "      <td>for starters , it was created by alan moore ( ...</td>\n",
       "      <td>pos</td>\n",
       "    </tr>\n",
       "    <tr>\n",
       "      <th>2</th>\n",
       "      <td>0</td>\n",
       "      <td>cv000</td>\n",
       "      <td>29590</td>\n",
       "      <td>2</td>\n",
       "      <td>to say moore and campbell thoroughly researche...</td>\n",
       "      <td>pos</td>\n",
       "    </tr>\n",
       "    <tr>\n",
       "      <th>3</th>\n",
       "      <td>0</td>\n",
       "      <td>cv000</td>\n",
       "      <td>29590</td>\n",
       "      <td>3</td>\n",
       "      <td>the book ( or \" graphic novel , \" if you will ...</td>\n",
       "      <td>pos</td>\n",
       "    </tr>\n",
       "    <tr>\n",
       "      <th>4</th>\n",
       "      <td>0</td>\n",
       "      <td>cv000</td>\n",
       "      <td>29590</td>\n",
       "      <td>4</td>\n",
       "      <td>in other words , don't dismiss this film becau...</td>\n",
       "      <td>pos</td>\n",
       "    </tr>\n",
       "    <tr>\n",
       "      <th>...</th>\n",
       "      <td>...</td>\n",
       "      <td>...</td>\n",
       "      <td>...</td>\n",
       "      <td>...</td>\n",
       "      <td>...</td>\n",
       "      <td>...</td>\n",
       "    </tr>\n",
       "    <tr>\n",
       "      <th>64715</th>\n",
       "      <td>9</td>\n",
       "      <td>cv999</td>\n",
       "      <td>14636</td>\n",
       "      <td>20</td>\n",
       "      <td>that lack of inspiration can be traced back to...</td>\n",
       "      <td>neg</td>\n",
       "    </tr>\n",
       "    <tr>\n",
       "      <th>64716</th>\n",
       "      <td>9</td>\n",
       "      <td>cv999</td>\n",
       "      <td>14636</td>\n",
       "      <td>21</td>\n",
       "      <td>like too many of the skits on the current inca...</td>\n",
       "      <td>neg</td>\n",
       "    </tr>\n",
       "    <tr>\n",
       "      <th>64717</th>\n",
       "      <td>9</td>\n",
       "      <td>cv999</td>\n",
       "      <td>14636</td>\n",
       "      <td>22</td>\n",
       "      <td>after watching one of the \" roxbury \" skits on...</td>\n",
       "      <td>neg</td>\n",
       "    </tr>\n",
       "    <tr>\n",
       "      <th>64718</th>\n",
       "      <td>9</td>\n",
       "      <td>cv999</td>\n",
       "      <td>14636</td>\n",
       "      <td>23</td>\n",
       "      <td>bump unsuspecting women , and . . . that's all .</td>\n",
       "      <td>neg</td>\n",
       "    </tr>\n",
       "    <tr>\n",
       "      <th>64719</th>\n",
       "      <td>9</td>\n",
       "      <td>cv999</td>\n",
       "      <td>14636</td>\n",
       "      <td>24</td>\n",
       "      <td>after watching _a_night_at_the_roxbury_ , you'...</td>\n",
       "      <td>neg</td>\n",
       "    </tr>\n",
       "  </tbody>\n",
       "</table>\n",
       "<p>64720 rows × 6 columns</p>\n",
       "</div>"
      ],
      "text/plain": [
       "       fold_id cv_tag  html_id  sent_id  \\\n",
       "0            0  cv000    29590        0   \n",
       "1            0  cv000    29590        1   \n",
       "2            0  cv000    29590        2   \n",
       "3            0  cv000    29590        3   \n",
       "4            0  cv000    29590        4   \n",
       "...        ...    ...      ...      ...   \n",
       "64715        9  cv999    14636       20   \n",
       "64716        9  cv999    14636       21   \n",
       "64717        9  cv999    14636       22   \n",
       "64718        9  cv999    14636       23   \n",
       "64719        9  cv999    14636       24   \n",
       "\n",
       "                                                    text  tag  \n",
       "0      films adapted from comic books have had plenty...  pos  \n",
       "1      for starters , it was created by alan moore ( ...  pos  \n",
       "2      to say moore and campbell thoroughly researche...  pos  \n",
       "3      the book ( or \" graphic novel , \" if you will ...  pos  \n",
       "4      in other words , don't dismiss this film becau...  pos  \n",
       "...                                                  ...  ...  \n",
       "64715  that lack of inspiration can be traced back to...  neg  \n",
       "64716  like too many of the skits on the current inca...  neg  \n",
       "64717  after watching one of the \" roxbury \" skits on...  neg  \n",
       "64718   bump unsuspecting women , and . . . that's all .  neg  \n",
       "64719  after watching _a_night_at_the_roxbury_ , you'...  neg  \n",
       "\n",
       "[64720 rows x 6 columns]"
      ]
     },
     "execution_count": 2,
     "metadata": {},
     "output_type": "execute_result"
    }
   ],
   "source": [
    "data = pd.read_csv('../input/movie-review/movie_review.csv')\n",
    "data"
   ]
  },
  {
   "cell_type": "markdown",
   "id": "0092ad24",
   "metadata": {
    "papermill": {
     "duration": 0.003709,
     "end_time": "2024-04-03T02:57:52.348929",
     "exception": false,
     "start_time": "2024-04-03T02:57:52.345220",
     "status": "completed"
    },
    "tags": []
   },
   "source": [
    "# Prétraitement des données textuelles"
   ]
  },
  {
   "cell_type": "code",
   "execution_count": 3,
   "id": "bf91f8d3",
   "metadata": {
    "execution": {
     "iopub.execute_input": "2024-04-03T02:57:52.359261Z",
     "iopub.status.busy": "2024-04-03T02:57:52.358181Z",
     "iopub.status.idle": "2024-04-03T02:58:04.494568Z",
     "shell.execute_reply": "2024-04-03T02:58:04.493798Z"
    },
    "papermill": {
     "duration": 12.143672,
     "end_time": "2024-04-03T02:58:04.496490",
     "exception": false,
     "start_time": "2024-04-03T02:57:52.352818",
     "status": "completed"
    },
    "tags": []
   },
   "outputs": [
    {
     "data": {
      "text/html": [
       "<div>\n",
       "<style scoped>\n",
       "    .dataframe tbody tr th:only-of-type {\n",
       "        vertical-align: middle;\n",
       "    }\n",
       "\n",
       "    .dataframe tbody tr th {\n",
       "        vertical-align: top;\n",
       "    }\n",
       "\n",
       "    .dataframe thead th {\n",
       "        text-align: right;\n",
       "    }\n",
       "</style>\n",
       "<table border=\"1\" class=\"dataframe\">\n",
       "  <thead>\n",
       "    <tr style=\"text-align: right;\">\n",
       "      <th></th>\n",
       "      <th>fold_id</th>\n",
       "      <th>cv_tag</th>\n",
       "      <th>html_id</th>\n",
       "      <th>sent_id</th>\n",
       "      <th>text</th>\n",
       "      <th>tag</th>\n",
       "    </tr>\n",
       "  </thead>\n",
       "  <tbody>\n",
       "    <tr>\n",
       "      <th>0</th>\n",
       "      <td>0</td>\n",
       "      <td>cv000</td>\n",
       "      <td>29590</td>\n",
       "      <td>0</td>\n",
       "      <td>[films, adapted, comic, books, plenty, success...</td>\n",
       "      <td>pos</td>\n",
       "    </tr>\n",
       "    <tr>\n",
       "      <th>1</th>\n",
       "      <td>0</td>\n",
       "      <td>cv000</td>\n",
       "      <td>29590</td>\n",
       "      <td>1</td>\n",
       "      <td>[starters, created, alan, moore, eddie, campbe...</td>\n",
       "      <td>pos</td>\n",
       "    </tr>\n",
       "    <tr>\n",
       "      <th>2</th>\n",
       "      <td>0</td>\n",
       "      <td>cv000</td>\n",
       "      <td>29590</td>\n",
       "      <td>2</td>\n",
       "      <td>[moore, campbell, thoroughly, researched, subj...</td>\n",
       "      <td>pos</td>\n",
       "    </tr>\n",
       "    <tr>\n",
       "      <th>3</th>\n",
       "      <td>0</td>\n",
       "      <td>cv000</td>\n",
       "      <td>29590</td>\n",
       "      <td>3</td>\n",
       "      <td>[book, ``, graphic, novel, ``, 500, pages, lon...</td>\n",
       "      <td>pos</td>\n",
       "    </tr>\n",
       "    <tr>\n",
       "      <th>4</th>\n",
       "      <td>0</td>\n",
       "      <td>cv000</td>\n",
       "      <td>29590</td>\n",
       "      <td>4</td>\n",
       "      <td>[words, dismiss, film, source]</td>\n",
       "      <td>pos</td>\n",
       "    </tr>\n",
       "    <tr>\n",
       "      <th>...</th>\n",
       "      <td>...</td>\n",
       "      <td>...</td>\n",
       "      <td>...</td>\n",
       "      <td>...</td>\n",
       "      <td>...</td>\n",
       "      <td>...</td>\n",
       "    </tr>\n",
       "    <tr>\n",
       "      <th>64715</th>\n",
       "      <td>9</td>\n",
       "      <td>cv999</td>\n",
       "      <td>14636</td>\n",
       "      <td>20</td>\n",
       "      <td>[lack, inspiration, traced, insipid, characters]</td>\n",
       "      <td>neg</td>\n",
       "    </tr>\n",
       "    <tr>\n",
       "      <th>64716</th>\n",
       "      <td>9</td>\n",
       "      <td>cv999</td>\n",
       "      <td>14636</td>\n",
       "      <td>21</td>\n",
       "      <td>[like, skits, current, incarnation, _saturday_...</td>\n",
       "      <td>neg</td>\n",
       "    </tr>\n",
       "    <tr>\n",
       "      <th>64717</th>\n",
       "      <td>9</td>\n",
       "      <td>cv999</td>\n",
       "      <td>14636</td>\n",
       "      <td>22</td>\n",
       "      <td>[watching, ``, roxbury, ``, skits, snl, come, ...</td>\n",
       "      <td>neg</td>\n",
       "    </tr>\n",
       "    <tr>\n",
       "      <th>64718</th>\n",
       "      <td>9</td>\n",
       "      <td>cv999</td>\n",
       "      <td>14636</td>\n",
       "      <td>23</td>\n",
       "      <td>[bump, unsuspecting, women]</td>\n",
       "      <td>neg</td>\n",
       "    </tr>\n",
       "    <tr>\n",
       "      <th>64719</th>\n",
       "      <td>9</td>\n",
       "      <td>cv999</td>\n",
       "      <td>14636</td>\n",
       "      <td>24</td>\n",
       "      <td>[watching, _a_night_at_the_roxbury_, left, exa...</td>\n",
       "      <td>neg</td>\n",
       "    </tr>\n",
       "  </tbody>\n",
       "</table>\n",
       "<p>64720 rows × 6 columns</p>\n",
       "</div>"
      ],
      "text/plain": [
       "       fold_id cv_tag  html_id  sent_id  \\\n",
       "0            0  cv000    29590        0   \n",
       "1            0  cv000    29590        1   \n",
       "2            0  cv000    29590        2   \n",
       "3            0  cv000    29590        3   \n",
       "4            0  cv000    29590        4   \n",
       "...        ...    ...      ...      ...   \n",
       "64715        9  cv999    14636       20   \n",
       "64716        9  cv999    14636       21   \n",
       "64717        9  cv999    14636       22   \n",
       "64718        9  cv999    14636       23   \n",
       "64719        9  cv999    14636       24   \n",
       "\n",
       "                                                    text  tag  \n",
       "0      [films, adapted, comic, books, plenty, success...  pos  \n",
       "1      [starters, created, alan, moore, eddie, campbe...  pos  \n",
       "2      [moore, campbell, thoroughly, researched, subj...  pos  \n",
       "3      [book, ``, graphic, novel, ``, 500, pages, lon...  pos  \n",
       "4                         [words, dismiss, film, source]  pos  \n",
       "...                                                  ...  ...  \n",
       "64715   [lack, inspiration, traced, insipid, characters]  neg  \n",
       "64716  [like, skits, current, incarnation, _saturday_...  neg  \n",
       "64717  [watching, ``, roxbury, ``, skits, snl, come, ...  neg  \n",
       "64718                        [bump, unsuspecting, women]  neg  \n",
       "64719  [watching, _a_night_at_the_roxbury_, left, exa...  neg  \n",
       "\n",
       "[64720 rows x 6 columns]"
      ]
     },
     "execution_count": 3,
     "metadata": {},
     "output_type": "execute_result"
    }
   ],
   "source": [
    "def preprocess_text(text):\n",
    "    tokens = word_tokenize(text)\n",
    "    tokens = [token.lower() for token in tokens if token.lower() not in STOP_WORDS and token not in string.punctuation]\n",
    "    return tokens\n",
    "\n",
    "data['text'] = data['text'].apply(preprocess_text)\n",
    "data"
   ]
  },
  {
   "cell_type": "markdown",
   "id": "3b2ec020",
   "metadata": {
    "papermill": {
     "duration": 0.00433,
     "end_time": "2024-04-03T02:58:04.505373",
     "exception": false,
     "start_time": "2024-04-03T02:58:04.501043",
     "status": "completed"
    },
    "tags": []
   },
   "source": [
    "# Entraînement du modèle Word2Vec"
   ]
  },
  {
   "cell_type": "code",
   "execution_count": 4,
   "id": "ef889ee5",
   "metadata": {
    "execution": {
     "iopub.execute_input": "2024-04-03T02:58:04.515577Z",
     "iopub.status.busy": "2024-04-03T02:58:04.515225Z",
     "iopub.status.idle": "2024-04-03T02:58:08.360962Z",
     "shell.execute_reply": "2024-04-03T02:58:08.360035Z"
    },
    "papermill": {
     "duration": 3.853964,
     "end_time": "2024-04-03T02:58:08.363742",
     "exception": false,
     "start_time": "2024-04-03T02:58:04.509778",
     "status": "completed"
    },
    "tags": []
   },
   "outputs": [],
   "source": [
    "model = Word2Vec(sentences=data['text'], vector_size=10, window=5, min_count=1)"
   ]
  },
  {
   "cell_type": "markdown",
   "id": "6603930e",
   "metadata": {
    "papermill": {
     "duration": 0.004038,
     "end_time": "2024-04-03T02:58:08.372680",
     "exception": false,
     "start_time": "2024-04-03T02:58:08.368642",
     "status": "completed"
    },
    "tags": []
   },
   "source": [
    "# Vectorisation des reviews de movies"
   ]
  },
  {
   "cell_type": "code",
   "execution_count": 5,
   "id": "fb6a4198",
   "metadata": {
    "execution": {
     "iopub.execute_input": "2024-04-03T02:58:08.382973Z",
     "iopub.status.busy": "2024-04-03T02:58:08.382610Z",
     "iopub.status.idle": "2024-04-03T02:58:10.152611Z",
     "shell.execute_reply": "2024-04-03T02:58:10.151671Z"
    },
    "papermill": {
     "duration": 1.777851,
     "end_time": "2024-04-03T02:58:10.154904",
     "exception": false,
     "start_time": "2024-04-03T02:58:08.377053",
     "status": "completed"
    },
    "tags": []
   },
   "outputs": [],
   "source": [
    "def average_word2vec(tokens, model, vector_size):\n",
    "    feature_vector = np.zeros((vector_size,), dtype=\"float32\")\n",
    "    num_words = 0\n",
    "    \n",
    "    for token in tokens:\n",
    "        if token in model.wv.key_to_index:\n",
    "            feature_vector = np.add(feature_vector, model.wv[token])\n",
    "            num_words += 1\n",
    "    \n",
    "    if num_words != 0:\n",
    "        feature_vector = np.divide(feature_vector, num_words)\n",
    "        \n",
    "    return feature_vector\n",
    "\n",
    "data['Vector'] = data['text'].apply(lambda x: average_word2vec(x, model, 10))"
   ]
  },
  {
   "cell_type": "markdown",
   "id": "425c0fbf",
   "metadata": {
    "papermill": {
     "duration": 0.003951,
     "end_time": "2024-04-03T02:58:10.163393",
     "exception": false,
     "start_time": "2024-04-03T02:58:10.159442",
     "status": "completed"
    },
    "tags": []
   },
   "source": [
    "# Division des données"
   ]
  },
  {
   "cell_type": "code",
   "execution_count": 6,
   "id": "657fcbf0",
   "metadata": {
    "execution": {
     "iopub.execute_input": "2024-04-03T02:58:10.172931Z",
     "iopub.status.busy": "2024-04-03T02:58:10.172597Z",
     "iopub.status.idle": "2024-04-03T02:58:10.188488Z",
     "shell.execute_reply": "2024-04-03T02:58:10.187692Z"
    },
    "papermill": {
     "duration": 0.022917,
     "end_time": "2024-04-03T02:58:10.190382",
     "exception": false,
     "start_time": "2024-04-03T02:58:10.167465",
     "status": "completed"
    },
    "tags": []
   },
   "outputs": [],
   "source": [
    "x = data['Vector'].to_numpy()\n",
    "y = data['tag']\n",
    "\n",
    "x_train, x_test, y_train, y_test = train_test_split(x, y, test_size=0.2, random_state=42)"
   ]
  },
  {
   "cell_type": "markdown",
   "id": "c70b5328",
   "metadata": {
    "papermill": {
     "duration": 0.003963,
     "end_time": "2024-04-03T02:58:10.198546",
     "exception": false,
     "start_time": "2024-04-03T02:58:10.194583",
     "status": "completed"
    },
    "tags": []
   },
   "source": [
    "# Construction d'un classificateur par 'Logistic Regression'"
   ]
  },
  {
   "cell_type": "code",
   "execution_count": 7,
   "id": "a967d0d0",
   "metadata": {
    "execution": {
     "iopub.execute_input": "2024-04-03T02:58:10.208814Z",
     "iopub.status.busy": "2024-04-03T02:58:10.207963Z",
     "iopub.status.idle": "2024-04-03T02:58:10.503279Z",
     "shell.execute_reply": "2024-04-03T02:58:10.502210Z"
    },
    "papermill": {
     "duration": 0.303392,
     "end_time": "2024-04-03T02:58:10.506298",
     "exception": false,
     "start_time": "2024-04-03T02:58:10.202906",
     "status": "completed"
    },
    "tags": []
   },
   "outputs": [
    {
     "data": {
      "text/html": [
       "<style>#sk-container-id-1 {color: black;background-color: white;}#sk-container-id-1 pre{padding: 0;}#sk-container-id-1 div.sk-toggleable {background-color: white;}#sk-container-id-1 label.sk-toggleable__label {cursor: pointer;display: block;width: 100%;margin-bottom: 0;padding: 0.3em;box-sizing: border-box;text-align: center;}#sk-container-id-1 label.sk-toggleable__label-arrow:before {content: \"▸\";float: left;margin-right: 0.25em;color: #696969;}#sk-container-id-1 label.sk-toggleable__label-arrow:hover:before {color: black;}#sk-container-id-1 div.sk-estimator:hover label.sk-toggleable__label-arrow:before {color: black;}#sk-container-id-1 div.sk-toggleable__content {max-height: 0;max-width: 0;overflow: hidden;text-align: left;background-color: #f0f8ff;}#sk-container-id-1 div.sk-toggleable__content pre {margin: 0.2em;color: black;border-radius: 0.25em;background-color: #f0f8ff;}#sk-container-id-1 input.sk-toggleable__control:checked~div.sk-toggleable__content {max-height: 200px;max-width: 100%;overflow: auto;}#sk-container-id-1 input.sk-toggleable__control:checked~label.sk-toggleable__label-arrow:before {content: \"▾\";}#sk-container-id-1 div.sk-estimator input.sk-toggleable__control:checked~label.sk-toggleable__label {background-color: #d4ebff;}#sk-container-id-1 div.sk-label input.sk-toggleable__control:checked~label.sk-toggleable__label {background-color: #d4ebff;}#sk-container-id-1 input.sk-hidden--visually {border: 0;clip: rect(1px 1px 1px 1px);clip: rect(1px, 1px, 1px, 1px);height: 1px;margin: -1px;overflow: hidden;padding: 0;position: absolute;width: 1px;}#sk-container-id-1 div.sk-estimator {font-family: monospace;background-color: #f0f8ff;border: 1px dotted black;border-radius: 0.25em;box-sizing: border-box;margin-bottom: 0.5em;}#sk-container-id-1 div.sk-estimator:hover {background-color: #d4ebff;}#sk-container-id-1 div.sk-parallel-item::after {content: \"\";width: 100%;border-bottom: 1px solid gray;flex-grow: 1;}#sk-container-id-1 div.sk-label:hover label.sk-toggleable__label {background-color: #d4ebff;}#sk-container-id-1 div.sk-serial::before {content: \"\";position: absolute;border-left: 1px solid gray;box-sizing: border-box;top: 0;bottom: 0;left: 50%;z-index: 0;}#sk-container-id-1 div.sk-serial {display: flex;flex-direction: column;align-items: center;background-color: white;padding-right: 0.2em;padding-left: 0.2em;position: relative;}#sk-container-id-1 div.sk-item {position: relative;z-index: 1;}#sk-container-id-1 div.sk-parallel {display: flex;align-items: stretch;justify-content: center;background-color: white;position: relative;}#sk-container-id-1 div.sk-item::before, #sk-container-id-1 div.sk-parallel-item::before {content: \"\";position: absolute;border-left: 1px solid gray;box-sizing: border-box;top: 0;bottom: 0;left: 50%;z-index: -1;}#sk-container-id-1 div.sk-parallel-item {display: flex;flex-direction: column;z-index: 1;position: relative;background-color: white;}#sk-container-id-1 div.sk-parallel-item:first-child::after {align-self: flex-end;width: 50%;}#sk-container-id-1 div.sk-parallel-item:last-child::after {align-self: flex-start;width: 50%;}#sk-container-id-1 div.sk-parallel-item:only-child::after {width: 0;}#sk-container-id-1 div.sk-dashed-wrapped {border: 1px dashed gray;margin: 0 0.4em 0.5em 0.4em;box-sizing: border-box;padding-bottom: 0.4em;background-color: white;}#sk-container-id-1 div.sk-label label {font-family: monospace;font-weight: bold;display: inline-block;line-height: 1.2em;}#sk-container-id-1 div.sk-label-container {text-align: center;}#sk-container-id-1 div.sk-container {/* jupyter's `normalize.less` sets `[hidden] { display: none; }` but bootstrap.min.css set `[hidden] { display: none !important; }` so we also need the `!important` here to be able to override the default hidden behavior on the sphinx rendered scikit-learn.org. See: https://github.com/scikit-learn/scikit-learn/issues/21755 */display: inline-block !important;position: relative;}#sk-container-id-1 div.sk-text-repr-fallback {display: none;}</style><div id=\"sk-container-id-1\" class=\"sk-top-container\"><div class=\"sk-text-repr-fallback\"><pre>LogisticRegression(max_iter=1000)</pre><b>In a Jupyter environment, please rerun this cell to show the HTML representation or trust the notebook. <br />On GitHub, the HTML representation is unable to render, please try loading this page with nbviewer.org.</b></div><div class=\"sk-container\" hidden><div class=\"sk-item\"><div class=\"sk-estimator sk-toggleable\"><input class=\"sk-toggleable__control sk-hidden--visually\" id=\"sk-estimator-id-1\" type=\"checkbox\" checked><label for=\"sk-estimator-id-1\" class=\"sk-toggleable__label sk-toggleable__label-arrow\">LogisticRegression</label><div class=\"sk-toggleable__content\"><pre>LogisticRegression(max_iter=1000)</pre></div></div></div></div></div>"
      ],
      "text/plain": [
       "LogisticRegression(max_iter=1000)"
      ]
     },
     "execution_count": 7,
     "metadata": {},
     "output_type": "execute_result"
    }
   ],
   "source": [
    "# On doit convertir les listes de vecteurs en une matrice numpy 2D pour x_train\n",
    "x_train = np.array([vec for vec in x_train])\n",
    "\n",
    "# On doit convertir les listes de vecteurs en une matrice numpy 2D pour x_test\n",
    "x_test = np.array([vec for vec in x_test])\n",
    "\n",
    "logreg_model = LogisticRegression(max_iter=1000)\n",
    "logreg_model.fit(x_train, y_train)"
   ]
  },
  {
   "cell_type": "markdown",
   "id": "c0407f10",
   "metadata": {
    "papermill": {
     "duration": 0.007467,
     "end_time": "2024-04-03T02:58:10.521259",
     "exception": false,
     "start_time": "2024-04-03T02:58:10.513792",
     "status": "completed"
    },
    "tags": []
   },
   "source": [
    "# Évaluation du modèle"
   ]
  },
  {
   "cell_type": "code",
   "execution_count": 8,
   "id": "6b16bebd",
   "metadata": {
    "execution": {
     "iopub.execute_input": "2024-04-03T02:58:10.537560Z",
     "iopub.status.busy": "2024-04-03T02:58:10.537010Z",
     "iopub.status.idle": "2024-04-03T02:58:10.953182Z",
     "shell.execute_reply": "2024-04-03T02:58:10.951910Z"
    },
    "papermill": {
     "duration": 0.426891,
     "end_time": "2024-04-03T02:58:10.955342",
     "exception": false,
     "start_time": "2024-04-03T02:58:10.528451",
     "status": "completed"
    },
    "tags": []
   },
   "outputs": [
    {
     "name": "stdout",
     "output_type": "stream",
     "text": [
      "Accuracy : 0.5383189122373301\n",
      "Precision : 0.539234283131808\n",
      "Recall    : 0.5383189122373301\n",
      "F1 score  : 0.5287508721113761\n"
     ]
    }
   ],
   "source": [
    "y_pred = logreg_model.predict(x_test)\n",
    "accuracy = accuracy_score(y_test, y_pred)\n",
    "precision = precision_score(y_test, y_pred, average='weighted')\n",
    "recall = recall_score(y_test, y_pred, average='weighted')\n",
    "f1 = f1_score(y_test, y_pred, average='weighted')\n",
    "\n",
    "print(\"Accuracy :\", accuracy)\n",
    "print(\"Precision :\", precision)\n",
    "print(\"Recall    :\", recall)\n",
    "print(\"F1 score  :\", f1)\n"
   ]
  }
 ],
 "metadata": {
  "kaggle": {
   "accelerator": "none",
   "dataSources": [
    {
     "datasetId": 2052,
     "sourceId": 131084,
     "sourceType": "datasetVersion"
    }
   ],
   "dockerImageVersionId": 30664,
   "isGpuEnabled": false,
   "isInternetEnabled": false,
   "language": "python",
   "sourceType": "notebook"
  },
  "kernelspec": {
   "display_name": "Python 3",
   "language": "python",
   "name": "python3"
  },
  "language_info": {
   "codemirror_mode": {
    "name": "ipython",
    "version": 3
   },
   "file_extension": ".py",
   "mimetype": "text/x-python",
   "name": "python",
   "nbconvert_exporter": "python",
   "pygments_lexer": "ipython3",
   "version": "3.10.13"
  },
  "papermill": {
   "default_parameters": {},
   "duration": 42.394014,
   "end_time": "2024-04-03T02:58:12.482542",
   "environment_variables": {},
   "exception": null,
   "input_path": "__notebook__.ipynb",
   "output_path": "__notebook__.ipynb",
   "parameters": {},
   "start_time": "2024-04-03T02:57:30.088528",
   "version": "2.5.0"
  }
 },
 "nbformat": 4,
 "nbformat_minor": 5
}
